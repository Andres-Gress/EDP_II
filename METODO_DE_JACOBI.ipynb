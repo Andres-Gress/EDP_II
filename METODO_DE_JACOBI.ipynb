{
  "nbformat": 4,
  "nbformat_minor": 0,
  "metadata": {
    "colab": {
      "provenance": [],
      "authorship_tag": "ABX9TyPgg1tuoJ1zEwea09tKC0MX",
      "include_colab_link": true
    },
    "kernelspec": {
      "name": "python3",
      "display_name": "Python 3"
    },
    "language_info": {
      "name": "python"
    }
  },
  "cells": [
    {
      "cell_type": "markdown",
      "metadata": {
        "id": "view-in-github",
        "colab_type": "text"
      },
      "source": [
        "<a href=\"https://colab.research.google.com/github/Andres-Gress/EDP_II/blob/main/METODO_DE_JACOBI.ipynb\" target=\"_parent\"><img src=\"https://colab.research.google.com/assets/colab-badge.svg\" alt=\"Open In Colab\"/></a>"
      ]
    },
    {
      "cell_type": "markdown",
      "source": [
        "# **METODO DE JACOBI**"
      ],
      "metadata": {
        "id": "MF6nlHjyYms5"
      }
    },
    {
      "cell_type": "markdown",
      "source": [
        "Se quiere resolver la ecuación de Laplace mediante métodos numéricos,\n",
        "Sea\n",
        "\n",
        "$\\frac{\\partial ^2 U}{\\partial x^2}+\\frac{\\partial ^2 U}{\\partial y^2}=0$\n",
        "\n",
        "con $U(0,y)=0, \\quad U(2,y)=y(2-y) \\quad 0<y<2$\n",
        "\n",
        "$U(x,0)=0 \\quad U(x,2)=\\left\\{\\begin{matrix}\n",
        "x & \\text{ si } \\quad 0<x<1 \\\\\n",
        "2-x & \\text{ si } \\quad 1\\leq x<2 \\\\\n",
        "\\end{matrix}\\right.$\n",
        "\n",
        "con $h=\\frac{1}{2}$"
      ],
      "metadata": {
        "id": "qQRjiQFsZBaR"
      }
    },
    {
      "cell_type": "markdown",
      "source": [
        "Tras obtener las $U_{ij}$ se tiene\n",
        "\n",
        "$U_{11}=\\frac{1}{4}U_{21}+\\frac{1}{4}U_{12}$\n",
        "\n",
        "$U_{21}=\\frac{1}{4}U_{11}+\\frac{1}{4}U_{22}+\\frac{2}{9}$\n",
        "\n",
        "$U_{12}=\\frac{1}{4}U_{11}+\\frac{1}{4}U_{22}+\\frac{1}{6}$\n",
        "\n",
        "$U_{22}=\\frac{1}{4}U_{21}+\\frac{1}{4}U_{12}+\\frac{7}{18}$"
      ],
      "metadata": {
        "id": "O6nmgl0LaGWo"
      }
    },
    {
      "cell_type": "markdown",
      "source": [
        "En notación matricial $U^{K+1}=TU^K+C$\n",
        "\n",
        "$\\left( \\begin{matrix}\n",
        "u_{11}^{k+1} \\\\\n",
        "u_{21}^{k+1}\\\\\n",
        "u_{12}^{k+1} \\\\\n",
        "u_{22}^{k+1}\n",
        "\\end{matrix} \\right)= \\left[\\begin{matrix}\n",
        "0 & \\frac{1}{4} & \\frac{1}{4} & 0 \\\\\n",
        "\\frac{1}{4} & 0 & 0 & \\frac{1}{4} \\\\\n",
        "\\frac{1}{4} & 0 & 0 & \\frac{1}{4} \\\\\n",
        "0 & \\frac{1}{4} & \\frac{1}{4} & 0 \\\\\n",
        "\\end{matrix}\\right]\\left( \\begin{matrix}\n",
        "u_{11}^{k} \\\\\n",
        "u_{21}^{k}\\\\\n",
        "u_{12}^{k} \\\\\n",
        "u_{22}^{k}\n",
        "\\end{matrix} \\right)+\\left( \\begin{matrix}\n",
        "0 \\\\\n",
        "\\frac{2}{9}\\\\\n",
        "\\frac{1}{6} \\\\\n",
        "\\frac{7}{18}\n",
        "\\end{matrix} \\right)$"
      ],
      "metadata": {
        "id": "f3cZK5Fia5ga"
      }
    },
    {
      "cell_type": "code",
      "execution_count": 78,
      "metadata": {
        "id": "I044WaLmXXEs"
      },
      "outputs": [],
      "source": [
        "import numpy as np\n",
        "import pandas as pd"
      ]
    },
    {
      "cell_type": "markdown",
      "source": [
        "comenzamos con importar las librerias numpy para los calculos y pandas para imprimir la tabla final"
      ],
      "metadata": {
        "id": "9Ywa52tWdykz"
      }
    },
    {
      "cell_type": "code",
      "source": [
        "#inicialización de la matriz y vectores\n",
        "T = np.array([[0, 1/4, 1/4, 0],\n",
        "              [1/4, 0, 0, 1/4],\n",
        "              [1/4, 0, 0, 1/4],\n",
        "              [0, 1/4, 1/4, 0]])\n",
        "c = np.array([0, 2/9, 1/6, 7/18])\n",
        "x0 = np.array([7/27, 7/27, 7/27, 7/27])"
      ],
      "metadata": {
        "id": "bCqv2XLhdyRT"
      },
      "execution_count": 79,
      "outputs": []
    },
    {
      "cell_type": "markdown",
      "source": [
        "Definimos la matriz T el vector C y el vector inicial"
      ],
      "metadata": {
        "id": "7hGrYTiMd9Tx"
      }
    },
    {
      "cell_type": "markdown",
      "source": [
        "Por cuestiones estéticas y de comodidad se hace el cambio\n",
        "$U_{11}=X_1$,\n",
        "$U_{21}=X_2$,\n",
        "$U_{12}=X_3$,\n",
        "$U_{22}=X_4$"
      ],
      "metadata": {
        "id": "kRzqZYkQqmCi"
      }
    },
    {
      "cell_type": "code",
      "source": [
        "tol = 1e-4\n",
        "iter = 1\n",
        "L = tol + 1  # asegura que entra al bucle\n",
        "\n",
        "tabla = []\n",
        "\n",
        "#iteraciones\n",
        "while L > tol:\n",
        "    xk = np.matmul(T, x0) + c\n",
        "    L = np.linalg.norm(xk - x0, ord=np.inf)\n",
        "    tabla.append([iter, *xk, L])\n",
        "    x0 = xk\n",
        "    iter += 1\n",
        "\n",
        "df = pd.DataFrame(tabla, columns=[\"Iteración\", \"x1\", \"x2\", \"x3\", \"x4\", \"Epsilon\"])\n",
        "print(df)"
      ],
      "metadata": {
        "colab": {
          "base_uri": "https://localhost:8080/"
        },
        "id": "c3TXJFN5eDa6",
        "outputId": "329b41ae-32ea-4d7a-c0c0-34d3a5d57322"
      },
      "execution_count": 80,
      "outputs": [
        {
          "output_type": "stream",
          "name": "stdout",
          "text": [
            "    Iteración        x1        x2        x3        x4   Epsilon\n",
            "0           1  0.129630  0.351852  0.296296  0.518519  0.259259\n",
            "1           2  0.162037  0.384259  0.328704  0.550926  0.032407\n",
            "2           3  0.178241  0.400463  0.344907  0.567130  0.016204\n",
            "3           4  0.186343  0.408565  0.353009  0.575231  0.008102\n",
            "4           5  0.190394  0.412616  0.357060  0.579282  0.004051\n",
            "5           6  0.192419  0.414641  0.359086  0.581308  0.002025\n",
            "6           7  0.193432  0.415654  0.360098  0.582321  0.001013\n",
            "7           8  0.193938  0.416160  0.360605  0.582827  0.000506\n",
            "8           9  0.194191  0.416413  0.360858  0.583080  0.000253\n",
            "9          10  0.194318  0.416540  0.360985  0.583207  0.000127\n",
            "10         11  0.194381  0.416603  0.361048  0.583270  0.000063\n"
          ]
        }
      ]
    },
    {
      "cell_type": "markdown",
      "source": [
        "Agregamos un epsilon y comenzamos a iterar hasta que la distancia de $x^{k+1}-x^k<tol$\n",
        "\n",
        "Para así imprimir la tabla"
      ],
      "metadata": {
        "id": "bkYrNnVWoZn7"
      }
    }
  ]
}